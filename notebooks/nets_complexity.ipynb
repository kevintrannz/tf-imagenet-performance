{
 "cells": [
  {
   "cell_type": "code",
   "execution_count": 1,
   "metadata": {
    "collapsed": true
   },
   "outputs": [],
   "source": [
    "import math\n",
    "import numpy as np\n",
    "import tensorflow as tf"
   ]
  },
  {
   "cell_type": "code",
   "execution_count": null,
   "metadata": {
    "collapsed": true
   },
   "outputs": [],
   "source": []
  },
  {
   "cell_type": "code",
   "execution_count": 2,
   "metadata": {
    "collapsed": true
   },
   "outputs": [],
   "source": [
    "# Classic layers...\n",
    "def Oconv2d(inshape=(10, 10, 1), ksize=(3, 3), nout=1):\n",
    "    return inshape[0]*inshape[1]*inshape[2]*ksize[0]*ksize[1]*nout\n",
    "\n",
    "def Odwconv2d(inshape=(10, 10, 1), ksize=(3, 3), multiplier=1.0):\n",
    "    return int(inshape[0]*inshape[1]*inshape[2]*ksize[0]*ksize[1]*multiplier)\n",
    "\n",
    "def Opwconv2d(inshape=(10, 10, 1), nout=1, multiplier=1.0):\n",
    "    return int(inshape[0]*inshape[1]*inshape[2]*nout*multiplier)\n",
    "\n",
    "def Osepconv2d(inshape=(10, 10, 1), ksize=(3, 3), nout=1, multiplier=1.0):\n",
    "    return Odwconv2d(inshape, ksize, multiplier) + Opwconv2d(inshape, nout, multiplier)\n",
    "\n",
    "# Add more stuff to reduce the overall complexity! Big trick!\n",
    "def Obpwconv2d(inshape=(10, 10, 1), nblocks=1, nout=1, multiplier=1.0):\n",
    "    nin = inshape[2]*multiplier\n",
    "    iblock = nin / nblocks\n",
    "    oblock = nout / nblocks\n",
    "    return int(inshape[0]*inshape[1] * iblock*oblock*nblocks)\n",
    "\n",
    "def Obspconv2d(inshape=(10, 10, 1), ksize=(3, 3), nblocks=1, nout=1, multiplier=1.0):\n",
    "    return Odwconv2d(inshape, ksize, multiplier) + Obpwconv2d(inshape, nblocks, nout, multiplier)\n"
   ]
  },
  {
   "cell_type": "markdown",
   "metadata": {},
   "source": [
    "## MobileNets statistics"
   ]
  },
  {
   "cell_type": "code",
   "execution_count": 3,
   "metadata": {},
   "outputs": [
    {
     "name": "stdout",
     "output_type": "stream",
     "text": [
      "OclaConv2d 462422016\n",
      "Odpwconv2d 903168\n",
      "Optwconv2d 51380224\n",
      "Osepconv2d 52283392\n"
     ]
    }
   ],
   "source": [
    "# Typical middle layer\n",
    "inshape=(14, 14, 512)\n",
    "ksize=(3, 3)\n",
    "nout=512\n",
    "multiplier=1.0\n",
    "\n",
    "print('OclaConv2d', Oconv2d(inshape, ksize, nout))\n",
    "print('Odpwconv2d', Odwconv2d(inshape, ksize, multiplier))\n",
    "print('Optwconv2d', Opwconv2d(inshape, nout, multiplier))\n",
    "print('Osepconv2d', Osepconv2d(inshape, ksize, nout, multiplier))"
   ]
  },
  {
   "cell_type": "code",
   "execution_count": 4,
   "metadata": {},
   "outputs": [
    {
     "data": {
      "text/plain": [
       "0.01727447216890595"
      ]
     },
     "execution_count": 4,
     "metadata": {},
     "output_type": "execute_result"
    }
   ],
   "source": [
    "903168 / 52283392"
   ]
  },
  {
   "cell_type": "code",
   "execution_count": 31,
   "metadata": {},
   "outputs": [
    {
     "name": "stdout",
     "output_type": "stream",
     "text": [
      "OclaConv2d 462422016\n",
      "Odpwconv2d 903168\n",
      "Optwconv2d 51380224\n",
      "Osepconv2d 52283392\n",
      "\n",
      "Params: 64 8.0 64.0 8.0\n",
      "Obdwconv2d 7225344\n",
      "Obpwconv2d 6422528\n",
      "Obspconv2d 13647872\n",
      "\n",
      "Params: 16 2.0 64.0 32.0\n",
      "Obdwconv2d 1806336\n",
      "Obpwconv2d 6422528\n",
      "Obspconv2d 8228864\n",
      "\n",
      "Params: 32 4.0 64.0 16.0\n",
      "Obdwconv2d 3612672\n",
      "Obpwconv2d 6422528\n",
      "Obspconv2d 10035200\n"
     ]
    }
   ],
   "source": [
    "# Play around with blocks! Lego style!\n",
    "nblocks=64\n",
    "multiplier=8.0\n",
    "\n",
    "print('OclaConv2d', Oconv2d(inshape, ksize, nout))\n",
    "print('Odpwconv2d', Odwconv2d(inshape, ksize))\n",
    "print('Optwconv2d', Opwconv2d(inshape, nout))\n",
    "print('Osepconv2d', Osepconv2d(inshape, ksize, nout))\n",
    "\n",
    "nblocks=64\n",
    "multiplier=8.0\n",
    "print('\\nParams:', nblocks, multiplier, inshape[-1]*multiplier / nblocks, nout / nblocks)\n",
    "print('Obdwconv2d', Odwconv2d(inshape, ksize, multiplier))\n",
    "print('Obpwconv2d', Obpwconv2d(inshape, nblocks, nout, multiplier))\n",
    "print('Obspconv2d', Obspconv2d(inshape, ksize, nblocks, nout, multiplier))\n",
    "\n",
    "nblocks=16\n",
    "multiplier=2.0\n",
    "print('\\nParams:', nblocks, multiplier, inshape[-1]*multiplier / nblocks, nout / nblocks)\n",
    "print('Obdwconv2d', Odwconv2d(inshape, ksize, multiplier))\n",
    "print('Obpwconv2d', Obpwconv2d(inshape, nblocks, nout, multiplier))\n",
    "print('Obspconv2d', Obspconv2d(inshape, ksize, nblocks, nout, multiplier))\n",
    "\n",
    "nblocks=32\n",
    "multiplier=4.0\n",
    "print('\\nParams:', nblocks, multiplier, inshape[-1]*multiplier / nblocks, nout / nblocks)\n",
    "print('Obdwconv2d', Odwconv2d(inshape, ksize, multiplier))\n",
    "print('Obpwconv2d', Obpwconv2d(inshape, nblocks, nout, multiplier))\n",
    "print('Obspconv2d', Obspconv2d(inshape, ksize, nblocks, nout, multiplier))\n"
   ]
  },
  {
   "cell_type": "code",
   "execution_count": 6,
   "metadata": {},
   "outputs": [
    {
     "data": {
      "text/plain": [
       "13070848.0"
      ]
     },
     "execution_count": 6,
     "metadata": {},
     "output_type": "execute_result"
    }
   ],
   "source": [
    "52283392 / 4"
   ]
  },
  {
   "cell_type": "code",
   "execution_count": 7,
   "metadata": {},
   "outputs": [
    {
     "data": {
      "text/plain": [
       "64.0"
      ]
     },
     "execution_count": 7,
     "metadata": {},
     "output_type": "execute_result"
    }
   ],
   "source": [
    "512 / 8"
   ]
  },
  {
   "cell_type": "code",
   "execution_count": null,
   "metadata": {
    "collapsed": true
   },
   "outputs": [],
   "source": []
  }
 ],
 "metadata": {
  "kernelspec": {
   "display_name": "Python [default]",
   "language": "python",
   "name": "python3"
  },
  "language_info": {
   "codemirror_mode": {
    "name": "ipython",
    "version": 3
   },
   "file_extension": ".py",
   "mimetype": "text/x-python",
   "name": "python",
   "nbconvert_exporter": "python",
   "pygments_lexer": "ipython3",
   "version": "3.5.3"
  }
 },
 "nbformat": 4,
 "nbformat_minor": 2
}
