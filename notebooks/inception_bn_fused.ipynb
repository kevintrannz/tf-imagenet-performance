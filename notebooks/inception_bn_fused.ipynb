{
 "cells": [
  {
   "cell_type": "code",
   "execution_count": 1,
   "metadata": {
    "collapsed": true
   },
   "outputs": [],
   "source": [
    "import os\n",
    "import math\n",
    "\n",
    "import numpy as np\n",
    "import tensorflow as tf\n",
    "\n",
    "slim = tf.contrib.slim"
   ]
  },
  {
   "cell_type": "code",
   "execution_count": 2,
   "metadata": {
    "collapsed": true
   },
   "outputs": [],
   "source": [
    "import sys\n",
    "sys.path.append('../')"
   ]
  },
  {
   "cell_type": "code",
   "execution_count": 3,
   "metadata": {
    "collapsed": true
   },
   "outputs": [],
   "source": [
    "from models_slim import inception, inception_utils\n",
    "from models_slim import inception_v1, inception_v2, inception_v3, inception_v4"
   ]
  },
  {
   "cell_type": "code",
   "execution_count": 4,
   "metadata": {
    "collapsed": true
   },
   "outputs": [],
   "source": [
    "# TensorFlow session: grow memory when needed. TF, DO NOT USE ALL MY GPU MEMORY!!!\n",
    "gpu_options = tf.GPUOptions(allow_growth=True)\n",
    "config = tf.ConfigProto(log_device_placement=False, gpu_options=gpu_options)\n",
    "isess = tf.InteractiveSession(config=config)"
   ]
  },
  {
   "cell_type": "markdown",
   "metadata": {},
   "source": [
    "# Inception checkpoints\n",
    "\n",
    "Add scale parameter to be able to use fused-BN."
   ]
  },
  {
   "cell_type": "code",
   "execution_count": null,
   "metadata": {
    "collapsed": true
   },
   "outputs": [],
   "source": []
  },
  {
   "cell_type": "code",
   "execution_count": 5,
   "metadata": {
    "collapsed": true
   },
   "outputs": [],
   "source": [
    "def restore_checkpoint(sess, ckpt_filename, moving_average_decay=0.9999):\n",
    "    tf_global_step = slim.get_or_create_global_step()\n",
    "    # Restore moving average variables or classic stuff!\n",
    "    if moving_average_decay:\n",
    "        variable_averages = tf.train.ExponentialMovingAverage(\n",
    "            moving_average_decay, tf_global_step)\n",
    "        variables_to_restore = variable_averages.variables_to_restore(\n",
    "            tf.contrib.framework.get_model_variables())\n",
    "        variables_to_restore[tf_global_step.op.name] = tf_global_step\n",
    "    else:\n",
    "        variables_to_restore = tf.contrib.framework.get_variables_to_restore()\n",
    "    # Restore method.\n",
    "    fn_restore = slim.assign_from_checkpoint_fn(ckpt_filename,\n",
    "                                                variables_to_restore,\n",
    "                                                ignore_missing_vars=True)\n",
    "    fn_restore(sess)"
   ]
  },
  {
   "cell_type": "code",
   "execution_count": 6,
   "metadata": {},
   "outputs": [
    {
     "name": "stdout",
     "output_type": "stream",
     "text": [
      "WARNING:tensorflow:Variable InceptionV2/Mixed_5b/Branch_2/Conv2d_0a_1x1/BatchNorm/gamma missing in checkpoint ../checkpoints/inception_v2.ckpt\n",
      "WARNING:tensorflow:Variable InceptionV2/Conv2d_2b_1x1/BatchNorm/gamma missing in checkpoint ../checkpoints/inception_v2.ckpt\n",
      "WARNING:tensorflow:Variable InceptionV2/Mixed_4d/Branch_2/Conv2d_0b_3x3/BatchNorm/gamma missing in checkpoint ../checkpoints/inception_v2.ckpt\n",
      "WARNING:tensorflow:Variable InceptionV2/Mixed_4d/Branch_3/Conv2d_0b_1x1/BatchNorm/gamma missing in checkpoint ../checkpoints/inception_v2.ckpt\n",
      "WARNING:tensorflow:Variable InceptionV2/Mixed_4b/Branch_2/Conv2d_0a_1x1/BatchNorm/gamma missing in checkpoint ../checkpoints/inception_v2.ckpt\n",
      "WARNING:tensorflow:Variable InceptionV2/Mixed_4a/Branch_1/Conv2d_1a_3x3/BatchNorm/gamma missing in checkpoint ../checkpoints/inception_v2.ckpt\n",
      "WARNING:tensorflow:Variable InceptionV2/Mixed_3c/Branch_3/Conv2d_0b_1x1/BatchNorm/gamma missing in checkpoint ../checkpoints/inception_v2.ckpt\n",
      "WARNING:tensorflow:Variable InceptionV2/Mixed_4b/Branch_2/Conv2d_0c_3x3/BatchNorm/gamma missing in checkpoint ../checkpoints/inception_v2.ckpt\n",
      "WARNING:tensorflow:Variable InceptionV2/Conv2d_2c_3x3/BatchNorm/gamma missing in checkpoint ../checkpoints/inception_v2.ckpt\n",
      "WARNING:tensorflow:Variable InceptionV2/Mixed_4d/Branch_2/Conv2d_0a_1x1/BatchNorm/gamma missing in checkpoint ../checkpoints/inception_v2.ckpt\n",
      "WARNING:tensorflow:Variable InceptionV2/Mixed_4e/Branch_3/Conv2d_0b_1x1/BatchNorm/gamma missing in checkpoint ../checkpoints/inception_v2.ckpt\n",
      "WARNING:tensorflow:Variable InceptionV2/Mixed_3b/Branch_3/Conv2d_0b_1x1/BatchNorm/gamma missing in checkpoint ../checkpoints/inception_v2.ckpt\n",
      "WARNING:tensorflow:Variable InceptionV2/Mixed_5c/Branch_1/Conv2d_0b_3x3/BatchNorm/gamma missing in checkpoint ../checkpoints/inception_v2.ckpt\n",
      "WARNING:tensorflow:Variable InceptionV2/Mixed_5b/Branch_2/Conv2d_0b_3x3/BatchNorm/gamma missing in checkpoint ../checkpoints/inception_v2.ckpt\n",
      "WARNING:tensorflow:Variable InceptionV2/Mixed_3b/Branch_2/Conv2d_0b_3x3/BatchNorm/gamma missing in checkpoint ../checkpoints/inception_v2.ckpt\n",
      "WARNING:tensorflow:Variable InceptionV2/Mixed_3c/Branch_2/Conv2d_0a_1x1/BatchNorm/gamma missing in checkpoint ../checkpoints/inception_v2.ckpt\n",
      "WARNING:tensorflow:Variable InceptionV2/Mixed_5b/Branch_2/Conv2d_0c_3x3/BatchNorm/gamma missing in checkpoint ../checkpoints/inception_v2.ckpt\n",
      "WARNING:tensorflow:Variable InceptionV2/Mixed_4a/Branch_1/Conv2d_0b_3x3/BatchNorm/gamma missing in checkpoint ../checkpoints/inception_v2.ckpt\n",
      "WARNING:tensorflow:Variable InceptionV2/Mixed_5c/Branch_3/Conv2d_0b_1x1/BatchNorm/gamma missing in checkpoint ../checkpoints/inception_v2.ckpt\n",
      "WARNING:tensorflow:Variable InceptionV2/Mixed_3b/Branch_2/Conv2d_0a_1x1/BatchNorm/gamma missing in checkpoint ../checkpoints/inception_v2.ckpt\n",
      "WARNING:tensorflow:Variable InceptionV2/Mixed_3b/Branch_1/Conv2d_0b_3x3/BatchNorm/gamma missing in checkpoint ../checkpoints/inception_v2.ckpt\n",
      "WARNING:tensorflow:Variable InceptionV2/Mixed_4b/Branch_0/Conv2d_0a_1x1/BatchNorm/gamma missing in checkpoint ../checkpoints/inception_v2.ckpt\n",
      "WARNING:tensorflow:Variable InceptionV2/Mixed_4e/Branch_2/Conv2d_0a_1x1/BatchNorm/gamma missing in checkpoint ../checkpoints/inception_v2.ckpt\n",
      "WARNING:tensorflow:Variable InceptionV2/Mixed_5a/Branch_0/Conv2d_0a_1x1/BatchNorm/gamma missing in checkpoint ../checkpoints/inception_v2.ckpt\n",
      "WARNING:tensorflow:Variable InceptionV2/Mixed_5a/Branch_1/Conv2d_1a_3x3/BatchNorm/gamma missing in checkpoint ../checkpoints/inception_v2.ckpt\n",
      "WARNING:tensorflow:Variable InceptionV2/Mixed_4d/Branch_1/Conv2d_0b_3x3/BatchNorm/gamma missing in checkpoint ../checkpoints/inception_v2.ckpt\n",
      "WARNING:tensorflow:Variable InceptionV2/Mixed_3c/Branch_2/Conv2d_0b_3x3/BatchNorm/gamma missing in checkpoint ../checkpoints/inception_v2.ckpt\n",
      "WARNING:tensorflow:Variable InceptionV2/Mixed_4a/Branch_0/Conv2d_1a_3x3/BatchNorm/gamma missing in checkpoint ../checkpoints/inception_v2.ckpt\n",
      "WARNING:tensorflow:Variable InceptionV2/Mixed_4b/Branch_2/Conv2d_0b_3x3/BatchNorm/gamma missing in checkpoint ../checkpoints/inception_v2.ckpt\n",
      "WARNING:tensorflow:Variable InceptionV2/Mixed_3b/Branch_0/Conv2d_0a_1x1/BatchNorm/gamma missing in checkpoint ../checkpoints/inception_v2.ckpt\n",
      "WARNING:tensorflow:Variable InceptionV2/Mixed_4e/Branch_1/Conv2d_0a_1x1/BatchNorm/gamma missing in checkpoint ../checkpoints/inception_v2.ckpt\n",
      "WARNING:tensorflow:Variable InceptionV2/Mixed_4b/Branch_1/Conv2d_0a_1x1/BatchNorm/gamma missing in checkpoint ../checkpoints/inception_v2.ckpt\n",
      "WARNING:tensorflow:Variable InceptionV2/Mixed_4a/Branch_1/Conv2d_0a_1x1/BatchNorm/gamma missing in checkpoint ../checkpoints/inception_v2.ckpt\n",
      "WARNING:tensorflow:Variable InceptionV2/Mixed_3c/Branch_1/Conv2d_0a_1x1/BatchNorm/gamma missing in checkpoint ../checkpoints/inception_v2.ckpt\n",
      "WARNING:tensorflow:Variable InceptionV2/Mixed_4c/Branch_2/Conv2d_0c_3x3/BatchNorm/gamma missing in checkpoint ../checkpoints/inception_v2.ckpt\n",
      "WARNING:tensorflow:Variable InceptionV2/Mixed_4c/Branch_3/Conv2d_0b_1x1/BatchNorm/gamma missing in checkpoint ../checkpoints/inception_v2.ckpt\n",
      "WARNING:tensorflow:Variable InceptionV2/Mixed_4a/Branch_0/Conv2d_0a_1x1/BatchNorm/gamma missing in checkpoint ../checkpoints/inception_v2.ckpt\n",
      "WARNING:tensorflow:Variable InceptionV2/Mixed_5b/Branch_0/Conv2d_0a_1x1/BatchNorm/gamma missing in checkpoint ../checkpoints/inception_v2.ckpt\n",
      "WARNING:tensorflow:Variable InceptionV2/Mixed_5c/Branch_0/Conv2d_0a_1x1/BatchNorm/gamma missing in checkpoint ../checkpoints/inception_v2.ckpt\n",
      "WARNING:tensorflow:Variable InceptionV2/Mixed_4d/Branch_2/Conv2d_0c_3x3/BatchNorm/gamma missing in checkpoint ../checkpoints/inception_v2.ckpt\n",
      "WARNING:tensorflow:Variable InceptionV2/Mixed_5b/Branch_1/Conv2d_0b_3x3/BatchNorm/gamma missing in checkpoint ../checkpoints/inception_v2.ckpt\n",
      "WARNING:tensorflow:Variable InceptionV2/Mixed_4e/Branch_2/Conv2d_0b_3x3/BatchNorm/gamma missing in checkpoint ../checkpoints/inception_v2.ckpt\n",
      "WARNING:tensorflow:Variable InceptionV2/Mixed_5a/Branch_1/Conv2d_0b_3x3/BatchNorm/gamma missing in checkpoint ../checkpoints/inception_v2.ckpt\n",
      "WARNING:tensorflow:Variable InceptionV2/Mixed_5c/Branch_2/Conv2d_0c_3x3/BatchNorm/gamma missing in checkpoint ../checkpoints/inception_v2.ckpt\n",
      "WARNING:tensorflow:Variable InceptionV2/Mixed_4c/Branch_0/Conv2d_0a_1x1/BatchNorm/gamma missing in checkpoint ../checkpoints/inception_v2.ckpt\n",
      "WARNING:tensorflow:Variable InceptionV2/Mixed_4c/Branch_2/Conv2d_0b_3x3/BatchNorm/gamma missing in checkpoint ../checkpoints/inception_v2.ckpt\n",
      "WARNING:tensorflow:Variable InceptionV2/Mixed_4d/Branch_0/Conv2d_0a_1x1/BatchNorm/gamma missing in checkpoint ../checkpoints/inception_v2.ckpt\n",
      "WARNING:tensorflow:Variable InceptionV2/Mixed_5b/Branch_3/Conv2d_0b_1x1/BatchNorm/gamma missing in checkpoint ../checkpoints/inception_v2.ckpt\n",
      "WARNING:tensorflow:Variable InceptionV2/Mixed_4e/Branch_1/Conv2d_0b_3x3/BatchNorm/gamma missing in checkpoint ../checkpoints/inception_v2.ckpt\n",
      "WARNING:tensorflow:Variable InceptionV2/Mixed_3c/Branch_1/Conv2d_0b_3x3/BatchNorm/gamma missing in checkpoint ../checkpoints/inception_v2.ckpt\n",
      "WARNING:tensorflow:Variable InceptionV2/Mixed_5b/Branch_1/Conv2d_0a_1x1/BatchNorm/gamma missing in checkpoint ../checkpoints/inception_v2.ckpt\n",
      "WARNING:tensorflow:Variable InceptionV2/Mixed_4e/Branch_0/Conv2d_0a_1x1/BatchNorm/gamma missing in checkpoint ../checkpoints/inception_v2.ckpt\n",
      "WARNING:tensorflow:Variable InceptionV2/Mixed_4b/Branch_3/Conv2d_0b_1x1/BatchNorm/gamma missing in checkpoint ../checkpoints/inception_v2.ckpt\n",
      "WARNING:tensorflow:Variable InceptionV2/Mixed_3c/Branch_2/Conv2d_0c_3x3/BatchNorm/gamma missing in checkpoint ../checkpoints/inception_v2.ckpt\n",
      "WARNING:tensorflow:Variable InceptionV2/Mixed_4c/Branch_1/Conv2d_0b_3x3/BatchNorm/gamma missing in checkpoint ../checkpoints/inception_v2.ckpt\n",
      "WARNING:tensorflow:Variable InceptionV2/Mixed_5a/Branch_0/Conv2d_1a_3x3/BatchNorm/gamma missing in checkpoint ../checkpoints/inception_v2.ckpt\n",
      "WARNING:tensorflow:Variable InceptionV2/Mixed_3b/Branch_1/Conv2d_0a_1x1/BatchNorm/gamma missing in checkpoint ../checkpoints/inception_v2.ckpt\n",
      "WARNING:tensorflow:Variable InceptionV2/Mixed_4b/Branch_1/Conv2d_0b_3x3/BatchNorm/gamma missing in checkpoint ../checkpoints/inception_v2.ckpt\n"
     ]
    },
    {
     "name": "stdout",
     "output_type": "stream",
     "text": [
      "WARNING:tensorflow:Variable InceptionV2/Mixed_4d/Branch_1/Conv2d_0a_1x1/BatchNorm/gamma missing in checkpoint ../checkpoints/inception_v2.ckpt\n",
      "WARNING:tensorflow:Variable InceptionV2/Mixed_5c/Branch_2/Conv2d_0a_1x1/BatchNorm/gamma missing in checkpoint ../checkpoints/inception_v2.ckpt\n",
      "WARNING:tensorflow:Variable InceptionV2/Mixed_5a/Branch_1/Conv2d_0a_1x1/BatchNorm/gamma missing in checkpoint ../checkpoints/inception_v2.ckpt\n",
      "WARNING:tensorflow:Variable InceptionV2/Mixed_5c/Branch_1/Conv2d_0a_1x1/BatchNorm/gamma missing in checkpoint ../checkpoints/inception_v2.ckpt\n",
      "WARNING:tensorflow:Variable InceptionV2/Mixed_4e/Branch_2/Conv2d_0c_3x3/BatchNorm/gamma missing in checkpoint ../checkpoints/inception_v2.ckpt\n",
      "WARNING:tensorflow:Variable InceptionV2/Mixed_3b/Branch_2/Conv2d_0c_3x3/BatchNorm/gamma missing in checkpoint ../checkpoints/inception_v2.ckpt\n",
      "WARNING:tensorflow:Variable InceptionV2/Mixed_4c/Branch_2/Conv2d_0a_1x1/BatchNorm/gamma missing in checkpoint ../checkpoints/inception_v2.ckpt\n",
      "WARNING:tensorflow:Variable InceptionV2/Mixed_4c/Branch_1/Conv2d_0a_1x1/BatchNorm/gamma missing in checkpoint ../checkpoints/inception_v2.ckpt\n",
      "WARNING:tensorflow:Variable InceptionV2/Mixed_5c/Branch_2/Conv2d_0b_3x3/BatchNorm/gamma missing in checkpoint ../checkpoints/inception_v2.ckpt\n",
      "WARNING:tensorflow:Variable InceptionV2/Mixed_3c/Branch_0/Conv2d_0a_1x1/BatchNorm/gamma missing in checkpoint ../checkpoints/inception_v2.ckpt\n",
      "INFO:tensorflow:Restoring parameters from ../checkpoints/inception_v2.ckpt\n"
     ]
    }
   ],
   "source": [
    "inception_model = inception.Inceptionv2Model()\n",
    "ckpt_filename = '../checkpoints/inception_v2.ckpt'\n",
    "        \n",
    "with tf.Graph().as_default():\n",
    "    # Input placeholder.\n",
    "    data_format = 'NCHW'\n",
    "    imgsize = inception_model.image_size\n",
    "    net_shape = (imgsize, imgsize)\n",
    "    img_input = tf.placeholder(tf.float32, shape=(1, 3, imgsize, imgsize))\n",
    "    \n",
    "    # Network...\n",
    "    output = inception_model.inference(img_input, num_classes=1001, is_training=False, \n",
    "                                       data_format=data_format, data_type=tf.float32)\n",
    "    \n",
    "    with tf.Session() as sess:\n",
    "        # Initialize variables.\n",
    "        sess.run(tf.global_variables_initializer())\n",
    "        sess.run(tf.local_variables_initializer())\n",
    "        # Load checkpoint. Should WARNINGS because of missing scale parameter...\n",
    "        restore_checkpoint(sess, ckpt_filename, moving_average_decay=None)\n",
    "        # Save back checkpoint!\n",
    "        save_filename = ckpt_filename.replace('.ckpt', '_fused.ckpt')\n",
    "        saver = tf.train.Saver()\n",
    "        saver.save(sess, save_filename, write_meta_graph=True)"
   ]
  },
  {
   "cell_type": "code",
   "execution_count": null,
   "metadata": {
    "collapsed": true
   },
   "outputs": [],
   "source": []
  },
  {
   "cell_type": "markdown",
   "metadata": {
    "collapsed": true
   },
   "source": [
    "# MobileNets - Google\n",
    "\n",
    "Convert checkpoint from Google format."
   ]
  },
  {
   "cell_type": "code",
   "execution_count": 7,
   "metadata": {
    "collapsed": true
   },
   "outputs": [],
   "source": [
    "from models_slim import mobilenets"
   ]
  },
  {
   "cell_type": "code",
   "execution_count": 8,
   "metadata": {},
   "outputs": [
    {
     "data": {
      "text/plain": [
       "{'Conv2d_0': 'conv1',\n",
       " 'Conv2d_10_depthwise': 'block11/conv_dw',\n",
       " 'Conv2d_10_pointwise': 'block11/conv_pw',\n",
       " 'Conv2d_11_depthwise': 'block12/conv_dw',\n",
       " 'Conv2d_11_pointwise': 'block12/conv_pw',\n",
       " 'Conv2d_12_depthwise': 'block13/conv_dw',\n",
       " 'Conv2d_12_pointwise': 'block13/conv_pw',\n",
       " 'Conv2d_13_depthwise': 'block14/conv_dw',\n",
       " 'Conv2d_13_pointwise': 'block14/conv_pw',\n",
       " 'Conv2d_1_depthwise': 'block2/conv_dw',\n",
       " 'Conv2d_1_pointwise': 'block2/conv_pw',\n",
       " 'Conv2d_2_depthwise': 'block3/conv_dw',\n",
       " 'Conv2d_2_pointwise': 'block3/conv_pw',\n",
       " 'Conv2d_3_depthwise': 'block4/conv_dw',\n",
       " 'Conv2d_3_pointwise': 'block4/conv_pw',\n",
       " 'Conv2d_4_depthwise': 'block5/conv_dw',\n",
       " 'Conv2d_4_pointwise': 'block5/conv_pw',\n",
       " 'Conv2d_5_depthwise': 'block6/conv_dw',\n",
       " 'Conv2d_5_pointwise': 'block6/conv_pw',\n",
       " 'Conv2d_6_depthwise': 'block7/conv_dw',\n",
       " 'Conv2d_6_pointwise': 'block7/conv_pw',\n",
       " 'Conv2d_7_depthwise': 'block8/conv_dw',\n",
       " 'Conv2d_7_pointwise': 'block8/conv_pw',\n",
       " 'Conv2d_8_depthwise': 'block9/conv_dw',\n",
       " 'Conv2d_8_pointwise': 'block9/conv_pw',\n",
       " 'Conv2d_9_depthwise': 'block10/conv_dw',\n",
       " 'Conv2d_9_pointwise': 'block10/conv_pw',\n",
       " 'Logits/Conv2d_1c_1x1': 'conv_fc15',\n",
       " 'MobilenetV1': 'MobileNets'}"
      ]
     },
     "execution_count": 8,
     "metadata": {},
     "output_type": "execute_result"
    }
   ],
   "source": [
    "# Build up mapping between Google MobileNets and ours.\n",
    "ckpt_mapping = {\n",
    "    'MobilenetV1': 'MobileNets',\n",
    "    'Conv2d_0': 'conv1',\n",
    "    'Logits/Conv2d_1c_1x1': 'conv_fc15',\n",
    "}\n",
    "# Main blocks layers.\n",
    "for i in range(1, 14):\n",
    "    ckpt_mapping['Conv2d_%i_depthwise' % i] = 'block%i/conv_dw' % (i+1)\n",
    "    ckpt_mapping['Conv2d_%i_pointwise' % i] = 'block%i/conv_pw' % (i+1)\n",
    "\n",
    "ckpt_mapping"
   ]
  },
  {
   "cell_type": "code",
   "execution_count": 12,
   "metadata": {
    "collapsed": true
   },
   "outputs": [],
   "source": [
    "def restore_checkpoint(sess, ckpt_filename, dict_mapping=None, moving_average_decay=0.9999):\n",
    "    tf_global_step = slim.get_or_create_global_step()\n",
    "    # Restore moving average variables or classic stuff!\n",
    "    if moving_average_decay:\n",
    "        variable_averages = tf.train.ExponentialMovingAverage(\n",
    "            moving_average_decay, tf_global_step)\n",
    "        variables_to_restore = variable_averages.variables_to_restore(\n",
    "            tf.contrib.framework.get_model_variables())\n",
    "        variables_to_restore[tf_global_step.op.name] = tf_global_step\n",
    "    else:\n",
    "        variables_to_restore = tf.contrib.framework.get_variables_to_restore()\n",
    "    # Modify var names using mapping dict.\n",
    "    for a, b in dict_mapping.items():\n",
    "        variables_to_restore = {k.replace(b, a): v for k, v in variables_to_restore.items()}\n",
    "    # Restore method.\n",
    "    fn_restore = slim.assign_from_checkpoint_fn(ckpt_filename,\n",
    "                                                variables_to_restore,\n",
    "                                                ignore_missing_vars=True)\n",
    "    fn_restore(sess)"
   ]
  },
  {
   "cell_type": "code",
   "execution_count": 14,
   "metadata": {},
   "outputs": [
    {
     "name": "stdout",
     "output_type": "stream",
     "text": [
      "INFO:tensorflow:Restoring parameters from ../checkpoints/mobilenet_v1_1.0_224.ckpt\n"
     ]
    }
   ],
   "source": [
    "mobilenets_model = mobilenets.MobileNetsModel()\n",
    "ckpt_filename = '../checkpoints/mobilenet_v1_1.0_224.ckpt'\n",
    "        \n",
    "with tf.Graph().as_default():\n",
    "    # Input placeholder.\n",
    "    data_format = 'NCHW'\n",
    "    imgsize = mobilenets_model.image_size\n",
    "    net_shape = (imgsize, imgsize)\n",
    "    img_input = tf.placeholder(tf.float32, shape=(1, 3, imgsize, imgsize))\n",
    "    \n",
    "    # Network...\n",
    "    output = mobilenets_model.inference(img_input, num_classes=1001, is_training=False, \n",
    "                                        data_format=data_format, data_type=tf.float32)\n",
    "    \n",
    "    with tf.Session() as sess:\n",
    "        # Initialize variables.\n",
    "        sess.run(tf.global_variables_initializer())\n",
    "        sess.run(tf.local_variables_initializer())\n",
    "        # Load checkpoint. Should WARNINGS because of missing scale parameter...\n",
    "        restore_checkpoint(sess, ckpt_filename, ckpt_mapping, moving_average_decay=0.999)\n",
    "        # Save back checkpoint!\n",
    "        save_filename = ckpt_filename.replace('.ckpt', '_slim.ckpt')\n",
    "        saver = tf.train.Saver()\n",
    "        saver.save(sess, save_filename, write_meta_graph=True)"
   ]
  },
  {
   "cell_type": "code",
   "execution_count": null,
   "metadata": {
    "collapsed": true
   },
   "outputs": [],
   "source": []
  }
 ],
 "metadata": {
  "kernelspec": {
   "display_name": "Python [default]",
   "language": "python",
   "name": "python3"
  },
  "language_info": {
   "codemirror_mode": {
    "name": "ipython",
    "version": 3
   },
   "file_extension": ".py",
   "mimetype": "text/x-python",
   "name": "python",
   "nbconvert_exporter": "python",
   "pygments_lexer": "ipython3",
   "version": "3.5.3"
  }
 },
 "nbformat": 4,
 "nbformat_minor": 2
}
