{
 "cells": [
  {
   "cell_type": "code",
   "execution_count": 1,
   "metadata": {
    "collapsed": true
   },
   "outputs": [],
   "source": [
    "import os\n",
    "import math\n",
    "\n",
    "import numpy as np\n",
    "import tensorflow as tf\n",
    "\n",
    "slim = tf.contrib.slim"
   ]
  },
  {
   "cell_type": "code",
   "execution_count": 2,
   "metadata": {
    "collapsed": true
   },
   "outputs": [],
   "source": [
    "import sys\n",
    "sys.path.append('../')"
   ]
  },
  {
   "cell_type": "code",
   "execution_count": 3,
   "metadata": {},
   "outputs": [],
   "source": [
    "from models_slim import inception, inception_utils\n",
    "from models_slim import inception_v1, inception_v2, inception_v3, inception_v4"
   ]
  },
  {
   "cell_type": "code",
   "execution_count": 4,
   "metadata": {
    "collapsed": true
   },
   "outputs": [],
   "source": [
    "# TensorFlow session: grow memory when needed. TF, DO NOT USE ALL MY GPU MEMORY!!!\n",
    "gpu_options = tf.GPUOptions(allow_growth=True)\n",
    "config = tf.ConfigProto(log_device_placement=False, gpu_options=gpu_options)\n",
    "isess = tf.InteractiveSession(config=config)"
   ]
  },
  {
   "cell_type": "markdown",
   "metadata": {},
   "source": [
    "# Inception checkpoints\n",
    "\n",
    "Add scale parameter to be able to use fused-BN."
   ]
  },
  {
   "cell_type": "code",
   "execution_count": null,
   "metadata": {
    "collapsed": true
   },
   "outputs": [],
   "source": []
  },
  {
   "cell_type": "code",
   "execution_count": 5,
   "metadata": {
    "collapsed": true
   },
   "outputs": [],
   "source": [
    "def restore_checkpoint(sess, ckpt_filename, moving_average_decay=0.9999):\n",
    "    tf_global_step = slim.get_or_create_global_step()\n",
    "    # Restore moving average variables or classic stuff!\n",
    "    if moving_average_decay:\n",
    "        variable_averages = tf.train.ExponentialMovingAverage(\n",
    "            moving_average_decay, tf_global_step)\n",
    "        variables_to_restore = variable_averages.variables_to_restore(\n",
    "            tf.contrib.framework.get_model_variables())\n",
    "        variables_to_restore[tf_global_step.op.name] = tf_global_step\n",
    "    else:\n",
    "        variables_to_restore = tf.contrib.framework.get_variables_to_restore()\n",
    "    # Restore method.\n",
    "    fn_restore = slim.assign_from_checkpoint_fn(ckpt_filename,\n",
    "                                                variables_to_restore,\n",
    "                                                ignore_missing_vars=True)\n",
    "    fn_restore(sess)"
   ]
  },
  {
   "cell_type": "code",
   "execution_count": 12,
   "metadata": {},
   "outputs": [
    {
     "name": "stdout",
     "output_type": "stream",
     "text": [
      "WARNING:tensorflow:Variable InceptionV4/Conv2d_1a_3x3/BatchNorm/gamma missing in checkpoint ../checkpoints/inception_v4.ckpt\n",
      "WARNING:tensorflow:Variable InceptionV4/Mixed_7a/Branch_0/Conv2d_1a_3x3/BatchNorm/gamma missing in checkpoint ../checkpoints/inception_v4.ckpt\n",
      "WARNING:tensorflow:Variable InceptionV4/Mixed_7c/Branch_2/Conv2d_0e_3x1/BatchNorm/gamma missing in checkpoint ../checkpoints/inception_v4.ckpt\n",
      "WARNING:tensorflow:Variable InceptionV4/Mixed_6d/Branch_1/Conv2d_0c_7x1/BatchNorm/gamma missing in checkpoint ../checkpoints/inception_v4.ckpt\n",
      "WARNING:tensorflow:Variable InceptionV4/Mixed_6c/Branch_2/Conv2d_0c_1x7/BatchNorm/gamma missing in checkpoint ../checkpoints/inception_v4.ckpt\n",
      "WARNING:tensorflow:Variable InceptionV4/Mixed_7d/Branch_2/Conv2d_0c_1x3/BatchNorm/gamma missing in checkpoint ../checkpoints/inception_v4.ckpt\n",
      "WARNING:tensorflow:Variable InceptionV4/AuxLogits/Conv2d_2a/BatchNorm/gamma missing in checkpoint ../checkpoints/inception_v4.ckpt\n",
      "WARNING:tensorflow:Variable InceptionV4/Mixed_6g/Branch_1/Conv2d_0c_7x1/BatchNorm/gamma missing in checkpoint ../checkpoints/inception_v4.ckpt\n",
      "WARNING:tensorflow:Variable InceptionV4/Mixed_5c/Branch_1/Conv2d_0b_3x3/BatchNorm/gamma missing in checkpoint ../checkpoints/inception_v4.ckpt\n",
      "WARNING:tensorflow:Variable InceptionV4/Mixed_7a/Branch_1/Conv2d_1a_3x3/BatchNorm/gamma missing in checkpoint ../checkpoints/inception_v4.ckpt\n",
      "WARNING:tensorflow:Variable InceptionV4/Mixed_6e/Branch_1/Conv2d_0c_7x1/BatchNorm/gamma missing in checkpoint ../checkpoints/inception_v4.ckpt\n",
      "WARNING:tensorflow:Variable InceptionV4/Mixed_6h/Branch_2/Conv2d_0e_1x7/BatchNorm/gamma missing in checkpoint ../checkpoints/inception_v4.ckpt\n",
      "WARNING:tensorflow:Variable InceptionV4/Mixed_6d/Branch_1/Conv2d_0b_1x7/BatchNorm/gamma missing in checkpoint ../checkpoints/inception_v4.ckpt\n",
      "WARNING:tensorflow:Variable InceptionV4/Mixed_6b/Branch_2/Conv2d_0e_1x7/BatchNorm/gamma missing in checkpoint ../checkpoints/inception_v4.ckpt\n",
      "WARNING:tensorflow:Variable InceptionV4/Mixed_5d/Branch_2/Conv2d_0c_3x3/BatchNorm/gamma missing in checkpoint ../checkpoints/inception_v4.ckpt\n",
      "WARNING:tensorflow:Variable InceptionV4/Mixed_6c/Branch_0/Conv2d_0a_1x1/BatchNorm/gamma missing in checkpoint ../checkpoints/inception_v4.ckpt\n",
      "WARNING:tensorflow:Variable InceptionV4/Mixed_6c/Branch_2/Conv2d_0a_1x1/BatchNorm/gamma missing in checkpoint ../checkpoints/inception_v4.ckpt\n",
      "WARNING:tensorflow:Variable InceptionV4/Mixed_6b/Branch_3/Conv2d_0b_1x1/BatchNorm/gamma missing in checkpoint ../checkpoints/inception_v4.ckpt\n",
      "WARNING:tensorflow:Variable InceptionV4/Mixed_7b/Branch_1/Conv2d_0c_3x1/BatchNorm/gamma missing in checkpoint ../checkpoints/inception_v4.ckpt\n",
      "WARNING:tensorflow:Variable InceptionV4/Mixed_6f/Branch_2/Conv2d_0a_1x1/BatchNorm/gamma missing in checkpoint ../checkpoints/inception_v4.ckpt\n",
      "WARNING:tensorflow:Variable InceptionV4/Mixed_7d/Branch_1/Conv2d_0b_1x3/BatchNorm/gamma missing in checkpoint ../checkpoints/inception_v4.ckpt\n",
      "WARNING:tensorflow:Variable InceptionV4/Mixed_6g/Branch_1/Conv2d_0a_1x1/BatchNorm/gamma missing in checkpoint ../checkpoints/inception_v4.ckpt\n",
      "WARNING:tensorflow:Variable InceptionV4/Mixed_6e/Branch_3/Conv2d_0b_1x1/BatchNorm/gamma missing in checkpoint ../checkpoints/inception_v4.ckpt\n",
      "WARNING:tensorflow:Variable InceptionV4/Mixed_7b/Branch_1/Conv2d_0b_1x3/BatchNorm/gamma missing in checkpoint ../checkpoints/inception_v4.ckpt\n",
      "WARNING:tensorflow:Variable InceptionV4/Mixed_6h/Branch_2/Conv2d_0c_1x7/BatchNorm/gamma missing in checkpoint ../checkpoints/inception_v4.ckpt\n",
      "WARNING:tensorflow:Variable InceptionV4/Mixed_6e/Branch_0/Conv2d_0a_1x1/BatchNorm/gamma missing in checkpoint ../checkpoints/inception_v4.ckpt\n",
      "WARNING:tensorflow:Variable InceptionV4/Mixed_5b/Branch_3/Conv2d_0b_1x1/BatchNorm/gamma missing in checkpoint ../checkpoints/inception_v4.ckpt\n",
      "WARNING:tensorflow:Variable InceptionV4/Mixed_7c/Branch_2/Conv2d_0a_1x1/BatchNorm/gamma missing in checkpoint ../checkpoints/inception_v4.ckpt\n",
      "WARNING:tensorflow:Variable InceptionV4/Mixed_5e/Branch_3/Conv2d_0b_1x1/BatchNorm/gamma missing in checkpoint ../checkpoints/inception_v4.ckpt\n",
      "WARNING:tensorflow:Variable InceptionV4/Mixed_6e/Branch_1/Conv2d_0b_1x7/BatchNorm/gamma missing in checkpoint ../checkpoints/inception_v4.ckpt\n",
      "WARNING:tensorflow:Variable InceptionV4/Mixed_7d/Branch_1/Conv2d_0a_1x1/BatchNorm/gamma missing in checkpoint ../checkpoints/inception_v4.ckpt\n",
      "WARNING:tensorflow:Variable InceptionV4/Mixed_6g/Branch_2/Conv2d_0b_7x1/BatchNorm/gamma missing in checkpoint ../checkpoints/inception_v4.ckpt\n",
      "WARNING:tensorflow:Variable InceptionV4/Mixed_7d/Branch_2/Conv2d_0d_1x3/BatchNorm/gamma missing in checkpoint ../checkpoints/inception_v4.ckpt\n",
      "WARNING:tensorflow:Variable InceptionV4/Mixed_6d/Branch_0/Conv2d_0a_1x1/BatchNorm/gamma missing in checkpoint ../checkpoints/inception_v4.ckpt\n",
      "WARNING:tensorflow:Variable InceptionV4/Mixed_6h/Branch_2/Conv2d_0b_7x1/BatchNorm/gamma missing in checkpoint ../checkpoints/inception_v4.ckpt\n",
      "WARNING:tensorflow:Variable InceptionV4/Mixed_7b/Branch_2/Conv2d_0d_1x3/BatchNorm/gamma missing in checkpoint ../checkpoints/inception_v4.ckpt\n",
      "WARNING:tensorflow:Variable InceptionV4/Mixed_5c/Branch_2/Conv2d_0b_3x3/BatchNorm/gamma missing in checkpoint ../checkpoints/inception_v4.ckpt\n",
      "WARNING:tensorflow:Variable InceptionV4/Mixed_4a/Branch_1/Conv2d_1a_3x3/BatchNorm/gamma missing in checkpoint ../checkpoints/inception_v4.ckpt\n",
      "WARNING:tensorflow:Variable InceptionV4/Mixed_7b/Branch_2/Conv2d_0c_1x3/BatchNorm/gamma missing in checkpoint ../checkpoints/inception_v4.ckpt\n",
      "WARNING:tensorflow:Variable InceptionV4/Mixed_4a/Branch_1/Conv2d_0a_1x1/BatchNorm/gamma missing in checkpoint ../checkpoints/inception_v4.ckpt\n",
      "WARNING:tensorflow:Variable InceptionV4/Mixed_6h/Branch_1/Conv2d_0c_7x1/BatchNorm/gamma missing in checkpoint ../checkpoints/inception_v4.ckpt\n",
      "WARNING:tensorflow:Variable InceptionV4/Mixed_7c/Branch_1/Conv2d_0b_1x3/BatchNorm/gamma missing in checkpoint ../checkpoints/inception_v4.ckpt\n",
      "WARNING:tensorflow:Variable InceptionV4/Mixed_6d/Branch_2/Conv2d_0e_1x7/BatchNorm/gamma missing in checkpoint ../checkpoints/inception_v4.ckpt\n",
      "WARNING:tensorflow:Variable InceptionV4/Mixed_5d/Branch_2/Conv2d_0b_3x3/BatchNorm/gamma missing in checkpoint ../checkpoints/inception_v4.ckpt\n",
      "WARNING:tensorflow:Variable InceptionV4/Mixed_7d/Branch_2/Conv2d_0e_3x1/BatchNorm/gamma missing in checkpoint ../checkpoints/inception_v4.ckpt\n",
      "WARNING:tensorflow:Variable InceptionV4/Mixed_5d/Branch_3/Conv2d_0b_1x1/BatchNorm/gamma missing in checkpoint ../checkpoints/inception_v4.ckpt\n",
      "WARNING:tensorflow:Variable InceptionV4/Mixed_6h/Branch_1/Conv2d_0a_1x1/BatchNorm/gamma missing in checkpoint ../checkpoints/inception_v4.ckpt\n",
      "WARNING:tensorflow:Variable InceptionV4/Mixed_7b/Branch_2/Conv2d_0b_3x1/BatchNorm/gamma missing in checkpoint ../checkpoints/inception_v4.ckpt\n",
      "WARNING:tensorflow:Variable InceptionV4/Mixed_5d/Branch_1/Conv2d_0a_1x1/BatchNorm/gamma missing in checkpoint ../checkpoints/inception_v4.ckpt\n",
      "WARNING:tensorflow:Variable InceptionV4/Mixed_5e/Branch_2/Conv2d_0c_3x3/BatchNorm/gamma missing in checkpoint ../checkpoints/inception_v4.ckpt\n",
      "WARNING:tensorflow:Variable InceptionV4/Mixed_7b/Branch_0/Conv2d_0a_1x1/BatchNorm/gamma missing in checkpoint ../checkpoints/inception_v4.ckpt\n",
      "WARNING:tensorflow:Variable InceptionV4/Mixed_6e/Branch_2/Conv2d_0b_7x1/BatchNorm/gamma missing in checkpoint ../checkpoints/inception_v4.ckpt\n",
      "WARNING:tensorflow:Variable InceptionV4/Mixed_6d/Branch_2/Conv2d_0b_7x1/BatchNorm/gamma missing in checkpoint ../checkpoints/inception_v4.ckpt\n",
      "WARNING:tensorflow:Variable InceptionV4/Mixed_7b/Branch_1/Conv2d_0a_1x1/BatchNorm/gamma missing in checkpoint ../checkpoints/inception_v4.ckpt\n",
      "WARNING:tensorflow:Variable InceptionV4/Mixed_5c/Branch_1/Conv2d_0a_1x1/BatchNorm/gamma missing in checkpoint ../checkpoints/inception_v4.ckpt\n",
      "WARNING:tensorflow:Variable InceptionV4/Mixed_7a/Branch_1/Conv2d_0a_1x1/BatchNorm/gamma missing in checkpoint ../checkpoints/inception_v4.ckpt\n",
      "WARNING:tensorflow:Variable InceptionV4/Conv2d_2b_3x3/BatchNorm/gamma missing in checkpoint ../checkpoints/inception_v4.ckpt\n",
      "WARNING:tensorflow:Variable InceptionV4/Mixed_7d/Branch_2/Conv2d_0b_3x1/BatchNorm/gamma missing in checkpoint ../checkpoints/inception_v4.ckpt\n"
     ]
    },
    {
     "name": "stdout",
     "output_type": "stream",
     "text": [
      "WARNING:tensorflow:Variable InceptionV4/Mixed_7c/Branch_2/Conv2d_0c_1x3/BatchNorm/gamma missing in checkpoint ../checkpoints/inception_v4.ckpt\n",
      "WARNING:tensorflow:Variable InceptionV4/Mixed_6e/Branch_2/Conv2d_0d_7x1/BatchNorm/gamma missing in checkpoint ../checkpoints/inception_v4.ckpt\n",
      "WARNING:tensorflow:Variable InceptionV4/Mixed_6f/Branch_1/Conv2d_0a_1x1/BatchNorm/gamma missing in checkpoint ../checkpoints/inception_v4.ckpt\n",
      "WARNING:tensorflow:Variable InceptionV4/Mixed_6g/Branch_0/Conv2d_0a_1x1/BatchNorm/gamma missing in checkpoint ../checkpoints/inception_v4.ckpt\n",
      "WARNING:tensorflow:Variable InceptionV4/Mixed_7c/Branch_2/Conv2d_0d_1x3/BatchNorm/gamma missing in checkpoint ../checkpoints/inception_v4.ckpt\n",
      "WARNING:tensorflow:Variable InceptionV4/Mixed_6g/Branch_2/Conv2d_0d_7x1/BatchNorm/gamma missing in checkpoint ../checkpoints/inception_v4.ckpt\n",
      "WARNING:tensorflow:Variable InceptionV4/Mixed_7b/Branch_3/Conv2d_0b_1x1/BatchNorm/gamma missing in checkpoint ../checkpoints/inception_v4.ckpt\n",
      "WARNING:tensorflow:Variable InceptionV4/Mixed_6a/Branch_0/Conv2d_1a_3x3/BatchNorm/gamma missing in checkpoint ../checkpoints/inception_v4.ckpt\n",
      "WARNING:tensorflow:Variable InceptionV4/Mixed_6h/Branch_0/Conv2d_0a_1x1/BatchNorm/gamma missing in checkpoint ../checkpoints/inception_v4.ckpt\n",
      "WARNING:tensorflow:Variable InceptionV4/Mixed_6f/Branch_2/Conv2d_0c_1x7/BatchNorm/gamma missing in checkpoint ../checkpoints/inception_v4.ckpt\n",
      "WARNING:tensorflow:Variable InceptionV4/Mixed_5b/Branch_2/Conv2d_0c_3x3/BatchNorm/gamma missing in checkpoint ../checkpoints/inception_v4.ckpt\n",
      "WARNING:tensorflow:Variable InceptionV4/Mixed_7d/Branch_2/Conv2d_0a_1x1/BatchNorm/gamma missing in checkpoint ../checkpoints/inception_v4.ckpt\n",
      "WARNING:tensorflow:Variable InceptionV4/Mixed_6g/Branch_2/Conv2d_0a_1x1/BatchNorm/gamma missing in checkpoint ../checkpoints/inception_v4.ckpt\n",
      "WARNING:tensorflow:Variable InceptionV4/Mixed_5a/Branch_0/Conv2d_1a_3x3/BatchNorm/gamma missing in checkpoint ../checkpoints/inception_v4.ckpt\n",
      "WARNING:tensorflow:Variable InceptionV4/Mixed_5c/Branch_0/Conv2d_0a_1x1/BatchNorm/gamma missing in checkpoint ../checkpoints/inception_v4.ckpt\n",
      "WARNING:tensorflow:Variable InceptionV4/Mixed_7c/Branch_1/Conv2d_0a_1x1/BatchNorm/gamma missing in checkpoint ../checkpoints/inception_v4.ckpt\n",
      "WARNING:tensorflow:Variable InceptionV4/Mixed_6d/Branch_2/Conv2d_0a_1x1/BatchNorm/gamma missing in checkpoint ../checkpoints/inception_v4.ckpt\n",
      "WARNING:tensorflow:Variable InceptionV4/Mixed_6f/Branch_2/Conv2d_0e_1x7/BatchNorm/gamma missing in checkpoint ../checkpoints/inception_v4.ckpt\n",
      "WARNING:tensorflow:Variable InceptionV4/Mixed_6f/Branch_3/Conv2d_0b_1x1/BatchNorm/gamma missing in checkpoint ../checkpoints/inception_v4.ckpt\n",
      "WARNING:tensorflow:Variable InceptionV4/Mixed_6b/Branch_1/Conv2d_0c_7x1/BatchNorm/gamma missing in checkpoint ../checkpoints/inception_v4.ckpt\n",
      "WARNING:tensorflow:Variable InceptionV4/Mixed_5d/Branch_2/Conv2d_0a_1x1/BatchNorm/gamma missing in checkpoint ../checkpoints/inception_v4.ckpt\n",
      "WARNING:tensorflow:Variable InceptionV4/Mixed_6f/Branch_0/Conv2d_0a_1x1/BatchNorm/gamma missing in checkpoint ../checkpoints/inception_v4.ckpt\n",
      "WARNING:tensorflow:Variable InceptionV4/Mixed_6g/Branch_1/Conv2d_0b_1x7/BatchNorm/gamma missing in checkpoint ../checkpoints/inception_v4.ckpt\n",
      "WARNING:tensorflow:Variable InceptionV4/Mixed_5b/Branch_1/Conv2d_0a_1x1/BatchNorm/gamma missing in checkpoint ../checkpoints/inception_v4.ckpt\n",
      "WARNING:tensorflow:Variable InceptionV4/Mixed_6a/Branch_1/Conv2d_1a_3x3/BatchNorm/gamma missing in checkpoint ../checkpoints/inception_v4.ckpt\n",
      "WARNING:tensorflow:Variable InceptionV4/Mixed_6c/Branch_2/Conv2d_0b_7x1/BatchNorm/gamma missing in checkpoint ../checkpoints/inception_v4.ckpt\n",
      "WARNING:tensorflow:Variable InceptionV4/Mixed_6b/Branch_0/Conv2d_0a_1x1/BatchNorm/gamma missing in checkpoint ../checkpoints/inception_v4.ckpt\n",
      "WARNING:tensorflow:Variable InceptionV4/Mixed_6b/Branch_2/Conv2d_0c_1x7/BatchNorm/gamma missing in checkpoint ../checkpoints/inception_v4.ckpt\n",
      "WARNING:tensorflow:Variable InceptionV4/Mixed_6c/Branch_1/Conv2d_0b_1x7/BatchNorm/gamma missing in checkpoint ../checkpoints/inception_v4.ckpt\n",
      "WARNING:tensorflow:Variable InceptionV4/Mixed_5d/Branch_0/Conv2d_0a_1x1/BatchNorm/gamma missing in checkpoint ../checkpoints/inception_v4.ckpt\n",
      "WARNING:tensorflow:Variable InceptionV4/Mixed_6d/Branch_1/Conv2d_0a_1x1/BatchNorm/gamma missing in checkpoint ../checkpoints/inception_v4.ckpt\n",
      "WARNING:tensorflow:Variable InceptionV4/Mixed_6g/Branch_2/Conv2d_0e_1x7/BatchNorm/gamma missing in checkpoint ../checkpoints/inception_v4.ckpt\n",
      "WARNING:tensorflow:Variable InceptionV4/Mixed_7d/Branch_1/Conv2d_0c_3x1/BatchNorm/gamma missing in checkpoint ../checkpoints/inception_v4.ckpt\n",
      "WARNING:tensorflow:Variable InceptionV4/Mixed_6d/Branch_2/Conv2d_0d_7x1/BatchNorm/gamma missing in checkpoint ../checkpoints/inception_v4.ckpt\n",
      "WARNING:tensorflow:Variable InceptionV4/Mixed_6f/Branch_2/Conv2d_0b_7x1/BatchNorm/gamma missing in checkpoint ../checkpoints/inception_v4.ckpt\n",
      "WARNING:tensorflow:Variable InceptionV4/Mixed_5b/Branch_2/Conv2d_0b_3x3/BatchNorm/gamma missing in checkpoint ../checkpoints/inception_v4.ckpt\n",
      "WARNING:tensorflow:Variable InceptionV4/Mixed_6f/Branch_2/Conv2d_0d_7x1/BatchNorm/gamma missing in checkpoint ../checkpoints/inception_v4.ckpt\n",
      "WARNING:tensorflow:Variable InceptionV4/Mixed_4a/Branch_1/Conv2d_0b_1x7/BatchNorm/gamma missing in checkpoint ../checkpoints/inception_v4.ckpt\n",
      "WARNING:tensorflow:Variable InceptionV4/Mixed_6b/Branch_2/Conv2d_0d_7x1/BatchNorm/gamma missing in checkpoint ../checkpoints/inception_v4.ckpt\n",
      "WARNING:tensorflow:Variable InceptionV4/Mixed_6e/Branch_2/Conv2d_0a_1x1/BatchNorm/gamma missing in checkpoint ../checkpoints/inception_v4.ckpt\n",
      "WARNING:tensorflow:Variable InceptionV4/Mixed_6g/Branch_3/Conv2d_0b_1x1/BatchNorm/gamma missing in checkpoint ../checkpoints/inception_v4.ckpt\n",
      "WARNING:tensorflow:Variable InceptionV4/Mixed_6d/Branch_3/Conv2d_0b_1x1/BatchNorm/gamma missing in checkpoint ../checkpoints/inception_v4.ckpt\n",
      "WARNING:tensorflow:Variable InceptionV4/AuxLogits/Conv2d_1b_1x1/BatchNorm/gamma missing in checkpoint ../checkpoints/inception_v4.ckpt\n",
      "WARNING:tensorflow:Variable InceptionV4/Mixed_6c/Branch_1/Conv2d_0a_1x1/BatchNorm/gamma missing in checkpoint ../checkpoints/inception_v4.ckpt\n",
      "WARNING:tensorflow:Variable InceptionV4/Mixed_6h/Branch_3/Conv2d_0b_1x1/BatchNorm/gamma missing in checkpoint ../checkpoints/inception_v4.ckpt\n",
      "WARNING:tensorflow:Variable InceptionV4/Mixed_6h/Branch_1/Conv2d_0b_1x7/BatchNorm/gamma missing in checkpoint ../checkpoints/inception_v4.ckpt\n",
      "WARNING:tensorflow:Variable InceptionV4/Mixed_4a/Branch_0/Conv2d_1a_3x3/BatchNorm/gamma missing in checkpoint ../checkpoints/inception_v4.ckpt\n",
      "WARNING:tensorflow:Variable InceptionV4/Mixed_4a/Branch_0/Conv2d_0a_1x1/BatchNorm/gamma missing in checkpoint ../checkpoints/inception_v4.ckpt\n",
      "WARNING:tensorflow:Variable InceptionV4/Mixed_7b/Branch_2/Conv2d_0a_1x1/BatchNorm/gamma missing in checkpoint ../checkpoints/inception_v4.ckpt\n",
      "WARNING:tensorflow:Variable InceptionV4/Mixed_6e/Branch_2/Conv2d_0c_1x7/BatchNorm/gamma missing in checkpoint ../checkpoints/inception_v4.ckpt\n",
      "WARNING:tensorflow:Variable InceptionV4/Mixed_6a/Branch_1/Conv2d_0a_1x1/BatchNorm/gamma missing in checkpoint ../checkpoints/inception_v4.ckpt\n",
      "WARNING:tensorflow:Variable InceptionV4/Mixed_5b/Branch_1/Conv2d_0b_3x3/BatchNorm/gamma missing in checkpoint ../checkpoints/inception_v4.ckpt\n",
      "WARNING:tensorflow:Variable InceptionV4/Mixed_5c/Branch_3/Conv2d_0b_1x1/BatchNorm/gamma missing in checkpoint ../checkpoints/inception_v4.ckpt\n",
      "WARNING:tensorflow:Variable InceptionV4/Mixed_6f/Branch_1/Conv2d_0c_7x1/BatchNorm/gamma missing in checkpoint ../checkpoints/inception_v4.ckpt\n",
      "WARNING:tensorflow:Variable InceptionV4/Mixed_6b/Branch_2/Conv2d_0a_1x1/BatchNorm/gamma missing in checkpoint ../checkpoints/inception_v4.ckpt\n",
      "WARNING:tensorflow:Variable InceptionV4/Mixed_5e/Branch_1/Conv2d_0b_3x3/BatchNorm/gamma missing in checkpoint ../checkpoints/inception_v4.ckpt\n",
      "WARNING:tensorflow:Variable InceptionV4/Mixed_6b/Branch_2/Conv2d_0b_7x1/BatchNorm/gamma missing in checkpoint ../checkpoints/inception_v4.ckpt\n",
      "WARNING:tensorflow:Variable InceptionV4/Mixed_5b/Branch_0/Conv2d_0a_1x1/BatchNorm/gamma missing in checkpoint ../checkpoints/inception_v4.ckpt\n"
     ]
    },
    {
     "name": "stdout",
     "output_type": "stream",
     "text": [
      "WARNING:tensorflow:Variable InceptionV4/Mixed_3a/Branch_1/Conv2d_0a_3x3/BatchNorm/gamma missing in checkpoint ../checkpoints/inception_v4.ckpt\n",
      "WARNING:tensorflow:Variable InceptionV4/Mixed_5c/Branch_2/Conv2d_0a_1x1/BatchNorm/gamma missing in checkpoint ../checkpoints/inception_v4.ckpt\n",
      "WARNING:tensorflow:Variable InceptionV4/Mixed_6g/Branch_2/Conv2d_0c_1x7/BatchNorm/gamma missing in checkpoint ../checkpoints/inception_v4.ckpt\n",
      "WARNING:tensorflow:Variable InceptionV4/Mixed_7c/Branch_1/Conv2d_0c_3x1/BatchNorm/gamma missing in checkpoint ../checkpoints/inception_v4.ckpt\n",
      "WARNING:tensorflow:Variable InceptionV4/Mixed_6c/Branch_3/Conv2d_0b_1x1/BatchNorm/gamma missing in checkpoint ../checkpoints/inception_v4.ckpt\n",
      "WARNING:tensorflow:Variable InceptionV4/Mixed_5e/Branch_2/Conv2d_0b_3x3/BatchNorm/gamma missing in checkpoint ../checkpoints/inception_v4.ckpt\n",
      "WARNING:tensorflow:Variable InceptionV4/Mixed_7d/Branch_0/Conv2d_0a_1x1/BatchNorm/gamma missing in checkpoint ../checkpoints/inception_v4.ckpt\n",
      "WARNING:tensorflow:Variable InceptionV4/Mixed_7c/Branch_3/Conv2d_0b_1x1/BatchNorm/gamma missing in checkpoint ../checkpoints/inception_v4.ckpt\n",
      "WARNING:tensorflow:Variable InceptionV4/Mixed_6e/Branch_1/Conv2d_0a_1x1/BatchNorm/gamma missing in checkpoint ../checkpoints/inception_v4.ckpt\n",
      "WARNING:tensorflow:Variable InceptionV4/Mixed_6a/Branch_1/Conv2d_0b_3x3/BatchNorm/gamma missing in checkpoint ../checkpoints/inception_v4.ckpt\n",
      "WARNING:tensorflow:Variable InceptionV4/Mixed_7a/Branch_1/Conv2d_0b_1x7/BatchNorm/gamma missing in checkpoint ../checkpoints/inception_v4.ckpt\n",
      "WARNING:tensorflow:Variable InceptionV4/Mixed_6b/Branch_1/Conv2d_0b_1x7/BatchNorm/gamma missing in checkpoint ../checkpoints/inception_v4.ckpt\n",
      "WARNING:tensorflow:Variable InceptionV4/Mixed_5e/Branch_0/Conv2d_0a_1x1/BatchNorm/gamma missing in checkpoint ../checkpoints/inception_v4.ckpt\n",
      "WARNING:tensorflow:Variable InceptionV4/Mixed_5c/Branch_2/Conv2d_0c_3x3/BatchNorm/gamma missing in checkpoint ../checkpoints/inception_v4.ckpt\n",
      "WARNING:tensorflow:Variable InceptionV4/Mixed_5d/Branch_1/Conv2d_0b_3x3/BatchNorm/gamma missing in checkpoint ../checkpoints/inception_v4.ckpt\n",
      "WARNING:tensorflow:Variable InceptionV4/Mixed_6c/Branch_2/Conv2d_0d_7x1/BatchNorm/gamma missing in checkpoint ../checkpoints/inception_v4.ckpt\n",
      "WARNING:tensorflow:Variable InceptionV4/Mixed_6e/Branch_2/Conv2d_0e_1x7/BatchNorm/gamma missing in checkpoint ../checkpoints/inception_v4.ckpt\n",
      "WARNING:tensorflow:Variable InceptionV4/Mixed_7b/Branch_2/Conv2d_0e_3x1/BatchNorm/gamma missing in checkpoint ../checkpoints/inception_v4.ckpt\n",
      "WARNING:tensorflow:Variable InceptionV4/Mixed_7c/Branch_0/Conv2d_0a_1x1/BatchNorm/gamma missing in checkpoint ../checkpoints/inception_v4.ckpt\n",
      "WARNING:tensorflow:Variable InceptionV4/Mixed_6c/Branch_1/Conv2d_0c_7x1/BatchNorm/gamma missing in checkpoint ../checkpoints/inception_v4.ckpt\n",
      "WARNING:tensorflow:Variable InceptionV4/Mixed_6f/Branch_1/Conv2d_0b_1x7/BatchNorm/gamma missing in checkpoint ../checkpoints/inception_v4.ckpt\n",
      "WARNING:tensorflow:Variable InceptionV4/Mixed_6h/Branch_2/Conv2d_0d_7x1/BatchNorm/gamma missing in checkpoint ../checkpoints/inception_v4.ckpt\n",
      "WARNING:tensorflow:Variable InceptionV4/Mixed_7c/Branch_2/Conv2d_0b_3x1/BatchNorm/gamma missing in checkpoint ../checkpoints/inception_v4.ckpt\n",
      "WARNING:tensorflow:Variable InceptionV4/Conv2d_2a_3x3/BatchNorm/gamma missing in checkpoint ../checkpoints/inception_v4.ckpt\n",
      "WARNING:tensorflow:Variable InceptionV4/Mixed_6b/Branch_1/Conv2d_0a_1x1/BatchNorm/gamma missing in checkpoint ../checkpoints/inception_v4.ckpt\n",
      "WARNING:tensorflow:Variable InceptionV4/Mixed_5b/Branch_2/Conv2d_0a_1x1/BatchNorm/gamma missing in checkpoint ../checkpoints/inception_v4.ckpt\n",
      "WARNING:tensorflow:Variable InceptionV4/Mixed_6h/Branch_2/Conv2d_0a_1x1/BatchNorm/gamma missing in checkpoint ../checkpoints/inception_v4.ckpt\n",
      "WARNING:tensorflow:Variable InceptionV4/Mixed_6d/Branch_2/Conv2d_0c_1x7/BatchNorm/gamma missing in checkpoint ../checkpoints/inception_v4.ckpt\n",
      "WARNING:tensorflow:Variable InceptionV4/Mixed_5e/Branch_2/Conv2d_0a_1x1/BatchNorm/gamma missing in checkpoint ../checkpoints/inception_v4.ckpt\n",
      "WARNING:tensorflow:Variable InceptionV4/Mixed_7a/Branch_1/Conv2d_0c_7x1/BatchNorm/gamma missing in checkpoint ../checkpoints/inception_v4.ckpt\n",
      "WARNING:tensorflow:Variable InceptionV4/Mixed_7a/Branch_0/Conv2d_0a_1x1/BatchNorm/gamma missing in checkpoint ../checkpoints/inception_v4.ckpt\n",
      "WARNING:tensorflow:Variable InceptionV4/Mixed_4a/Branch_1/Conv2d_0c_7x1/BatchNorm/gamma missing in checkpoint ../checkpoints/inception_v4.ckpt\n",
      "WARNING:tensorflow:Variable InceptionV4/Mixed_5e/Branch_1/Conv2d_0a_1x1/BatchNorm/gamma missing in checkpoint ../checkpoints/inception_v4.ckpt\n",
      "WARNING:tensorflow:Variable InceptionV4/Mixed_7d/Branch_3/Conv2d_0b_1x1/BatchNorm/gamma missing in checkpoint ../checkpoints/inception_v4.ckpt\n",
      "WARNING:tensorflow:Variable InceptionV4/Mixed_6c/Branch_2/Conv2d_0e_1x7/BatchNorm/gamma missing in checkpoint ../checkpoints/inception_v4.ckpt\n",
      "INFO:tensorflow:Restoring parameters from ../checkpoints/inception_v4.ckpt\n"
     ]
    }
   ],
   "source": [
    "inception_model = inception.Inceptionv4Model()\n",
    "ckpt_filename = '../checkpoints/inception_v4.ckpt'\n",
    "        \n",
    "with tf.Graph().as_default():\n",
    "    # Input placeholder.\n",
    "    data_format = 'NCHW'\n",
    "    imgsize = inception_model.image_size\n",
    "    net_shape = (imgsize, imgsize)\n",
    "    img_input = tf.placeholder(tf.float32, shape=(1, 3, imgsize, imgsize))\n",
    "    \n",
    "    # Network...\n",
    "    output = inception_model.inference(img_input, num_classes=1001, is_training=False, \n",
    "                                       data_format=data_format, data_type=tf.float32)\n",
    "    \n",
    "    with tf.Session() as sess:\n",
    "        # Initialize variables.\n",
    "        sess.run(tf.global_variables_initializer())\n",
    "        sess.run(tf.local_variables_initializer())\n",
    "        # Load checkpoint. Should WARNINGS because of missing scale parameter...\n",
    "        restore_checkpoint(sess, ckpt_filename, moving_average_decay=None)\n",
    "        # Save back checkpoint!\n",
    "        save_filename = ckpt_filename.replace('.ckpt', '_fused.ckpt')\n",
    "        saver = tf.train.Saver()\n",
    "        saver.save(sess, save_filename, write_meta_graph=False)"
   ]
  },
  {
   "cell_type": "code",
   "execution_count": null,
   "metadata": {
    "collapsed": true
   },
   "outputs": [],
   "source": []
  },
  {
   "cell_type": "code",
   "execution_count": null,
   "metadata": {
    "collapsed": true
   },
   "outputs": [],
   "source": []
  },
  {
   "cell_type": "code",
   "execution_count": null,
   "metadata": {},
   "outputs": [],
   "source": []
  },
  {
   "cell_type": "code",
   "execution_count": null,
   "metadata": {
    "collapsed": true
   },
   "outputs": [],
   "source": []
  }
 ],
 "metadata": {
  "kernelspec": {
   "display_name": "Python [default]",
   "language": "python",
   "name": "python3"
  },
  "language_info": {
   "codemirror_mode": {
    "name": "ipython",
    "version": 3
   },
   "file_extension": ".py",
   "mimetype": "text/x-python",
   "name": "python",
   "nbconvert_exporter": "python",
   "pygments_lexer": "ipython3",
   "version": "3.5.3"
  }
 },
 "nbformat": 4,
 "nbformat_minor": 2
}
