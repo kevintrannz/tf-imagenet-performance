{
 "cells": [
  {
   "cell_type": "code",
   "execution_count": 1,
   "metadata": {
    "collapsed": true
   },
   "outputs": [],
   "source": [
    "import os\n",
    "import time\n",
    "import math\n",
    "\n",
    "import numpy as np\n",
    "import tensorflow as tf\n",
    "import cv2\n",
    "\n",
    "slim = tf.contrib.slim"
   ]
  },
  {
   "cell_type": "code",
   "execution_count": 2,
   "metadata": {
    "collapsed": true
   },
   "outputs": [],
   "source": [
    "import sys\n",
    "sys.path.append('../')"
   ]
  },
  {
   "cell_type": "code",
   "execution_count": 3,
   "metadata": {
    "collapsed": true
   },
   "outputs": [],
   "source": [
    "# isess = tf.InteractiveSession()"
   ]
  },
  {
   "cell_type": "code",
   "execution_count": 4,
   "metadata": {
    "collapsed": true
   },
   "outputs": [],
   "source": [
    "%matplotlib inline"
   ]
  },
  {
   "cell_type": "code",
   "execution_count": null,
   "metadata": {
    "collapsed": true
   },
   "outputs": [],
   "source": []
  },
  {
   "cell_type": "markdown",
   "metadata": {},
   "source": [
    "# CNNs benchmarking\n",
    "\n",
    "Fairly simple benchmarks. Absolute numbers are probably rubbish, but should give a good indication of relative performance between architectures."
   ]
  },
  {
   "cell_type": "code",
   "execution_count": 5,
   "metadata": {
    "collapsed": true
   },
   "outputs": [],
   "source": [
    "from models_slim import mobilenets, inception_v1, inception_v2, inception_v3\n"
   ]
  },
  {
   "cell_type": "code",
   "execution_count": 38,
   "metadata": {
    "collapsed": true
   },
   "outputs": [],
   "source": [
    "# Main parameters.\n",
    "inshape = [1, 3, 321, 321]"
   ]
  },
  {
   "cell_type": "code",
   "execution_count": 39,
   "metadata": {
    "collapsed": true
   },
   "outputs": [],
   "source": [
    "# MobileNets.\n",
    "def build_mobilenets(inshape, data_format='NHWC'):\n",
    "    tf.reset_default_graph()\n",
    "    with slim.arg_scope(mobilenets.mobilenets_arg_scope(data_format=data_format, is_training=False)):\n",
    "        inputs = tf.placeholder(tf.float32, shape=inshape)\n",
    "        outputs = mobilenets.mobilenets(inputs, is_training=False)\n",
    "        return inputs, [outputs]\n",
    "    \n",
    "# Inception v1, v2, v3, v4, ...\n",
    "def build_inception_v1(inshape, data_format='NHWC'):\n",
    "    tf.reset_default_graph()\n",
    "    with slim.arg_scope(inception_v1.inception_v1_arg_scope(data_format=data_format, is_training=False)):\n",
    "        inputs = tf.placeholder(tf.float32, shape=inshape)\n",
    "        outputs = inception_v1.inception_v1(inputs, is_training=False)\n",
    "        return inputs, [outputs]\n",
    "    \n",
    "def build_inception_v2(inshape, data_format='NHWC'):\n",
    "    tf.reset_default_graph()\n",
    "    with slim.arg_scope(inception_v2.inception_v2_arg_scope(data_format=data_format, is_training=False)):\n",
    "        inputs = tf.placeholder(tf.float32, shape=inshape)\n",
    "        outputs = inception_v2.inception_v2(inputs, is_training=False)\n",
    "        return inputs, [outputs]\n",
    "    \n",
    "def build_inception_v3(inshape, data_format='NHWC'):\n",
    "    tf.reset_default_graph()\n",
    "    with slim.arg_scope(inception_v3.inception_v3_arg_scope(data_format=data_format, is_training=False)):\n",
    "        inputs = tf.placeholder(tf.float32, shape=inshape)\n",
    "        outputs = inception_v3.inception_v3(inputs, is_training=False)\n",
    "        return inputs, [outputs]"
   ]
  },
  {
   "cell_type": "code",
   "execution_count": 40,
   "metadata": {
    "collapsed": true
   },
   "outputs": [],
   "source": [
    "def benchmark_network(inputs, outputs, nruns=100):\n",
    "    \"\"\"Benchmark a network.\n",
    "    \"\"\"\n",
    "    inshape = inputs.get_shape().as_list()\n",
    "    with tf.Session() as sess:\n",
    "        # Initialize variables.\n",
    "        sess.run(tf.global_variables_initializer())\n",
    "        sess.run(tf.local_variables_initializer())\n",
    "        # Run some loops...\n",
    "        runs = []\n",
    "        for i in range(nruns):\n",
    "            start = time.time()\n",
    "            sess.run(outputs, feed_dict={inputs: np.random.random(inshape)})\n",
    "            end = time.time()\n",
    "            runs.append(end - start)\n",
    "        print('Average: %.5f sec.' % np.mean(runs))\n",
    "        print('Standard deviation: %.5f sec.' % np.std(runs))\n",
    "            "
   ]
  },
  {
   "cell_type": "code",
   "execution_count": 41,
   "metadata": {},
   "outputs": [
    {
     "name": "stdout",
     "output_type": "stream",
     "text": [
      "Average: 0.01675 sec.\n",
      "Standard deviation: 0.05369 sec.\n"
     ]
    }
   ],
   "source": [
    "inputs, outputs = build_mobilenets(inshape, data_format='NCHW')\n",
    "benchmark_network(inputs, outputs, nruns=50)"
   ]
  },
  {
   "cell_type": "code",
   "execution_count": 57,
   "metadata": {},
   "outputs": [
    {
     "name": "stdout",
     "output_type": "stream",
     "text": [
      "Average: 0.02153 sec.\n",
      "Standard deviation: 0.00558 sec.\n"
     ]
    }
   ],
   "source": [
    "inputs, outputs = build_inception_v1(inshape, data_format='NCHW')\n",
    "benchmark_network(inputs, outputs, nruns=50)"
   ]
  },
  {
   "cell_type": "code",
   "execution_count": 58,
   "metadata": {},
   "outputs": [
    {
     "name": "stdout",
     "output_type": "stream",
     "text": [
      "Average: 0.02347 sec.\n",
      "Standard deviation: 0.01310 sec.\n"
     ]
    }
   ],
   "source": [
    "inputs, outputs = build_inception_v2(inshape, data_format='NCHW')\n",
    "benchmark_network(inputs, outputs, nruns=50)"
   ]
  },
  {
   "cell_type": "code",
   "execution_count": 59,
   "metadata": {},
   "outputs": [
    {
     "name": "stdout",
     "output_type": "stream",
     "text": [
      "Average: 0.04527 sec.\n",
      "Standard deviation: 0.00905 sec.\n"
     ]
    }
   ],
   "source": [
    "inputs, outputs = build_inception_v3(inshape, data_format='NCHW')\n",
    "benchmark_network(inputs, outputs, nruns=50)"
   ]
  },
  {
   "cell_type": "code",
   "execution_count": null,
   "metadata": {},
   "outputs": [],
   "source": []
  },
  {
   "cell_type": "code",
   "execution_count": null,
   "metadata": {
    "collapsed": true
   },
   "outputs": [],
   "source": []
  }
 ],
 "metadata": {
  "kernelspec": {
   "display_name": "Python [conda root]",
   "language": "python",
   "name": "conda-root-py"
  },
  "language_info": {
   "codemirror_mode": {
    "name": "ipython",
    "version": 3
   },
   "file_extension": ".py",
   "mimetype": "text/x-python",
   "name": "python",
   "nbconvert_exporter": "python",
   "pygments_lexer": "ipython3",
   "version": "3.5.3"
  }
 },
 "nbformat": 4,
 "nbformat_minor": 2
}
